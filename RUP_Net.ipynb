{
  "nbformat": 4,
  "nbformat_minor": 0,
  "metadata": {
    "colab": {
      "name": "RUP-Net.ipynb",
      "provenance": [],
      "authorship_tag": "ABX9TyOMVDPB4h6zvLne7+nwhsCX",
      "include_colab_link": true
    },
    "kernelspec": {
      "name": "python3",
      "display_name": "Python 3"
    },
    "accelerator": "TPU"
  },
  "cells": [
    {
      "cell_type": "markdown",
      "metadata": {
        "id": "view-in-github",
        "colab_type": "text"
      },
      "source": [
        "<a href=\"https://colab.research.google.com/github/hyaochn/RUP-Net/blob/master/RUP_Net.ipynb\" target=\"_parent\"><img src=\"https://colab.research.google.com/assets/colab-badge.svg\" alt=\"Open In Colab\"/></a>"
      ]
    },
    {
      "cell_type": "markdown",
      "metadata": {
        "id": "jcOmFvrdKL7z",
        "colab_type": "text"
      },
      "source": [
        "# **Residual U-Net + Pixel De-convolution Network**"
      ]
    },
    {
      "cell_type": "markdown",
      "metadata": {
        "id": "zvX41AssKCUF",
        "colab_type": "text"
      },
      "source": [
        "\n",
        "\n",
        "1.   Import library\n",
        "2.   Mount Google Drive to load dataset. Att: /X, /Y to load correctly.\n"
      ]
    },
    {
      "cell_type": "code",
      "metadata": {
        "id": "xJjBxVENhJ50",
        "colab_type": "code",
        "outputId": "d3fd9543-d2b1-4774-d795-6002507f20c4",
        "colab": {
          "base_uri": "https://localhost:8080/",
          "height": 34
        }
      },
      "source": [
        "%tensorflow_version 2.x\n",
        "import tensorflow as tf\n",
        "print(\"tensorflow version: \",tf.__version__)\n",
        "\n",
        "import h5py\n",
        "import numpy as np\n",
        "import matplotlib.pyplot as plt\n",
        "\n",
        "\n",
        "import tensorflow.keras as keras\n",
        "import scipy.ndimage as snd\n"
      ],
      "execution_count": 26,
      "outputs": [
        {
          "output_type": "stream",
          "text": [
            "tensorflow version:  2.1.0\n"
          ],
          "name": "stdout"
        }
      ]
    },
    {
      "cell_type": "code",
      "metadata": {
        "id": "bExW2jRnhSyX",
        "colab_type": "code",
        "outputId": "30625fd9-e7db-4454-c911-d636756a934b",
        "colab": {
          "base_uri": "https://localhost:8080/",
          "height": 695
        }
      },
      "source": [
        "from google.colab import drive\n",
        "drive.mount('gdrive')\n",
        "#!ls \"gdrive/My Drive/Deep-Learning/Data\"\n",
        "\n",
        "\n",
        "!pip install tensorflow_io\n",
        "\n",
        "import tensorflow_io as tfio\n",
        "print(\"tensorflow_io version: \",tfio.__version__)"
      ],
      "execution_count": 27,
      "outputs": [
        {
          "output_type": "stream",
          "text": [
            "Drive already mounted at gdrive; to attempt to forcibly remount, call drive.mount(\"gdrive\", force_remount=True).\n",
            "Requirement already satisfied: tensorflow_io in /usr/local/lib/python3.6/dist-packages (0.12.0)\n",
            "Requirement already satisfied: tensorflow<2.2.0,>=2.1.0 in /tensorflow-2.1.0/python3.6 (from tensorflow_io) (2.1.0)\n",
            "Requirement already satisfied: astor>=0.6.0 in /tensorflow-2.1.0/python3.6 (from tensorflow<2.2.0,>=2.1.0->tensorflow_io) (0.8.1)\n",
            "Requirement already satisfied: google-pasta>=0.1.6 in /tensorflow-2.1.0/python3.6 (from tensorflow<2.2.0,>=2.1.0->tensorflow_io) (0.1.8)\n",
            "Requirement already satisfied: protobuf>=3.8.0 in /tensorflow-2.1.0/python3.6 (from tensorflow<2.2.0,>=2.1.0->tensorflow_io) (3.11.3)\n",
            "Requirement already satisfied: tensorflow-estimator<2.2.0,>=2.1.0rc0 in /tensorflow-2.1.0/python3.6 (from tensorflow<2.2.0,>=2.1.0->tensorflow_io) (2.1.0)\n",
            "Requirement already satisfied: keras-applications>=1.0.8 in /tensorflow-2.1.0/python3.6 (from tensorflow<2.2.0,>=2.1.0->tensorflow_io) (1.0.8)\n",
            "Requirement already satisfied: tensorboard<2.2.0,>=2.1.0 in /tensorflow-2.1.0/python3.6 (from tensorflow<2.2.0,>=2.1.0->tensorflow_io) (2.1.0)\n",
            "Requirement already satisfied: absl-py>=0.7.0 in /tensorflow-2.1.0/python3.6 (from tensorflow<2.2.0,>=2.1.0->tensorflow_io) (0.9.0)\n",
            "Requirement already satisfied: gast==0.2.2 in /tensorflow-2.1.0/python3.6 (from tensorflow<2.2.0,>=2.1.0->tensorflow_io) (0.2.2)\n",
            "Requirement already satisfied: keras-preprocessing>=1.1.0 in /tensorflow-2.1.0/python3.6 (from tensorflow<2.2.0,>=2.1.0->tensorflow_io) (1.1.0)\n",
            "Requirement already satisfied: termcolor>=1.1.0 in /tensorflow-2.1.0/python3.6 (from tensorflow<2.2.0,>=2.1.0->tensorflow_io) (1.1.0)\n",
            "Requirement already satisfied: numpy<2.0,>=1.16.0 in /tensorflow-2.1.0/python3.6 (from tensorflow<2.2.0,>=2.1.0->tensorflow_io) (1.18.1)\n",
            "Requirement already satisfied: opt-einsum>=2.3.2 in /tensorflow-2.1.0/python3.6 (from tensorflow<2.2.0,>=2.1.0->tensorflow_io) (3.2.0)\n",
            "Requirement already satisfied: six>=1.12.0 in /tensorflow-2.1.0/python3.6 (from tensorflow<2.2.0,>=2.1.0->tensorflow_io) (1.14.0)\n",
            "Requirement already satisfied: grpcio>=1.8.6 in /tensorflow-2.1.0/python3.6 (from tensorflow<2.2.0,>=2.1.0->tensorflow_io) (1.27.2)\n",
            "Requirement already satisfied: wrapt>=1.11.1 in /tensorflow-2.1.0/python3.6 (from tensorflow<2.2.0,>=2.1.0->tensorflow_io) (1.12.0)\n",
            "Requirement already satisfied: wheel>=0.26; python_version >= \"3\" in /tensorflow-2.1.0/python3.6 (from tensorflow<2.2.0,>=2.1.0->tensorflow_io) (0.34.2)\n",
            "Requirement already satisfied: scipy==1.4.1; python_version >= \"3\" in /tensorflow-2.1.0/python3.6 (from tensorflow<2.2.0,>=2.1.0->tensorflow_io) (1.4.1)\n",
            "Requirement already satisfied: setuptools in /tensorflow-2.1.0/python3.6 (from protobuf>=3.8.0->tensorflow<2.2.0,>=2.1.0->tensorflow_io) (45.2.0)\n",
            "Requirement already satisfied: h5py in /tensorflow-2.1.0/python3.6 (from keras-applications>=1.0.8->tensorflow<2.2.0,>=2.1.0->tensorflow_io) (2.10.0)\n",
            "Requirement already satisfied: requests<3,>=2.21.0 in /tensorflow-2.1.0/python3.6 (from tensorboard<2.2.0,>=2.1.0->tensorflow<2.2.0,>=2.1.0->tensorflow_io) (2.23.0)\n",
            "Requirement already satisfied: google-auth<2,>=1.6.3 in /tensorflow-2.1.0/python3.6 (from tensorboard<2.2.0,>=2.1.0->tensorflow<2.2.0,>=2.1.0->tensorflow_io) (1.11.2)\n",
            "Requirement already satisfied: google-auth-oauthlib<0.5,>=0.4.1 in /tensorflow-2.1.0/python3.6 (from tensorboard<2.2.0,>=2.1.0->tensorflow<2.2.0,>=2.1.0->tensorflow_io) (0.4.1)\n",
            "Requirement already satisfied: werkzeug>=0.11.15 in /tensorflow-2.1.0/python3.6 (from tensorboard<2.2.0,>=2.1.0->tensorflow<2.2.0,>=2.1.0->tensorflow_io) (1.0.0)\n",
            "Requirement already satisfied: markdown>=2.6.8 in /tensorflow-2.1.0/python3.6 (from tensorboard<2.2.0,>=2.1.0->tensorflow<2.2.0,>=2.1.0->tensorflow_io) (3.2.1)\n",
            "Requirement already satisfied: idna<3,>=2.5 in /tensorflow-2.1.0/python3.6 (from requests<3,>=2.21.0->tensorboard<2.2.0,>=2.1.0->tensorflow<2.2.0,>=2.1.0->tensorflow_io) (2.9)\n",
            "Requirement already satisfied: chardet<4,>=3.0.2 in /tensorflow-2.1.0/python3.6 (from requests<3,>=2.21.0->tensorboard<2.2.0,>=2.1.0->tensorflow<2.2.0,>=2.1.0->tensorflow_io) (3.0.4)\n",
            "Requirement already satisfied: urllib3!=1.25.0,!=1.25.1,<1.26,>=1.21.1 in /tensorflow-2.1.0/python3.6 (from requests<3,>=2.21.0->tensorboard<2.2.0,>=2.1.0->tensorflow<2.2.0,>=2.1.0->tensorflow_io) (1.25.8)\n",
            "Requirement already satisfied: certifi>=2017.4.17 in /tensorflow-2.1.0/python3.6 (from requests<3,>=2.21.0->tensorboard<2.2.0,>=2.1.0->tensorflow<2.2.0,>=2.1.0->tensorflow_io) (2019.11.28)\n",
            "Requirement already satisfied: pyasn1-modules>=0.2.1 in /tensorflow-2.1.0/python3.6 (from google-auth<2,>=1.6.3->tensorboard<2.2.0,>=2.1.0->tensorflow<2.2.0,>=2.1.0->tensorflow_io) (0.2.8)\n",
            "Requirement already satisfied: rsa<4.1,>=3.1.4 in /tensorflow-2.1.0/python3.6 (from google-auth<2,>=1.6.3->tensorboard<2.2.0,>=2.1.0->tensorflow<2.2.0,>=2.1.0->tensorflow_io) (4.0)\n",
            "Requirement already satisfied: cachetools<5.0,>=2.0.0 in /tensorflow-2.1.0/python3.6 (from google-auth<2,>=1.6.3->tensorboard<2.2.0,>=2.1.0->tensorflow<2.2.0,>=2.1.0->tensorflow_io) (4.0.0)\n",
            "Requirement already satisfied: requests-oauthlib>=0.7.0 in /tensorflow-2.1.0/python3.6 (from google-auth-oauthlib<0.5,>=0.4.1->tensorboard<2.2.0,>=2.1.0->tensorflow<2.2.0,>=2.1.0->tensorflow_io) (1.3.0)\n",
            "Requirement already satisfied: pyasn1<0.5.0,>=0.4.6 in /tensorflow-2.1.0/python3.6 (from pyasn1-modules>=0.2.1->google-auth<2,>=1.6.3->tensorboard<2.2.0,>=2.1.0->tensorflow<2.2.0,>=2.1.0->tensorflow_io) (0.4.8)\n",
            "Requirement already satisfied: oauthlib>=3.0.0 in /tensorflow-2.1.0/python3.6 (from requests-oauthlib>=0.7.0->google-auth-oauthlib<0.5,>=0.4.1->tensorboard<2.2.0,>=2.1.0->tensorflow<2.2.0,>=2.1.0->tensorflow_io) (3.1.0)\n",
            "tensorflow_io version:  0.12.0\n"
          ],
          "name": "stdout"
        }
      ]
    },
    {
      "cell_type": "code",
      "metadata": {
        "id": "-ftD8k7AKG8i",
        "colab_type": "code",
        "colab": {}
      },
      "source": [
        "BATCH_SIZE=1\n",
        "EPOCH=5\n",
        "CHANNEL_AXIS=4\n",
        "\n",
        "#number of epoch to augment, if 2, 4*orig size new images are generated\n",
        "#because one epoch including flip and rotate\n",
        "AUGMENT_EPOCH=0 \n",
        "\n",
        "\n",
        "root_dir=\"gdrive/My Drive/Deep-Learning/\"\n",
        "train_fn=root_dir+\"Data/train.h5\"\n",
        "test_fn=root_dir+\"Data/test.h5\"\n",
        "\n",
        "#!ls \"$train_fn\"\n",
        "\n",
        "#x_train, y_train= tfio.IODataset.from_hdf5(train_fn, dataset='/X'), tfio.IODataset.from_hdf5(train_fn, dataset='/Y')\n",
        "#x_test, y_test= tfio.IODataset.from_hdf5(test_fn, dataset='/X'), tfio.IODataset.from_hdf5(test_fn, dataset='/Y')\n",
        "\n",
        "#conf=tf.io.read_file(root_dir+\"Configures/train.csv\")\n"
      ],
      "execution_count": 0,
      "outputs": []
    },
    {
      "cell_type": "code",
      "metadata": {
        "id": "gB9lfYFXtna-",
        "colab_type": "code",
        "colab": {}
      },
      "source": [
        "#last channel axis is also number of class (1+1=2)\n",
        "#image_shape=x_train.element_spec.shape\n",
        "#print(image_shape)\n",
        "\n",
        "train_f=h5py.File(train_fn,'r')\n",
        "x_train, y_train=np.array(train_f['X']), np.array(train_f['Y'])\n",
        "\n",
        "SHUFFLE_SIZE=BATCH_SIZE*np.prod(y_train.shape)\n",
        "\n",
        "y_train=tf.one_hot(y_train, 2, CHANNEL_AXIS)\n",
        "train_set=tf.data.Dataset.from_tensor_slices((x_train, y_train))\n",
        "\n",
        "\n",
        "test_f=h5py.File(test_fn,'r')\n",
        "x_test, y_test=np.array(test_f['X']), np.array(test_f['Y'])\n",
        "y_test=tf.one_hot(y_test, 2, CHANNEL_AXIS)\n",
        "#print(x_train.shape, y_train.shape)\n",
        "#print(x_test.shape, y_test.shape)"
      ],
      "execution_count": 0,
      "outputs": []
    },
    {
      "cell_type": "markdown",
      "metadata": {
        "id": "KdyrGns1eNiE",
        "colab_type": "text"
      },
      "source": [
        "Augmentation"
      ]
    },
    {
      "cell_type": "code",
      "metadata": {
        "id": "h5qJsrzkdrJk",
        "colab_type": "code",
        "colab": {}
      },
      "source": [
        "#https://www.wouterbulten.nl/blog/tech/data-augmentation-using-tensorflow-data-dataset/#rotation-and-flipping\n",
        "def plot_dataset(dataset, n_cases=8, n_slices_per_case=10):\n",
        "  num_of_sets=len(dataset.element_spec)\n",
        "  img_shape=dataset.element_spec[0].shape\n",
        "  #[0]=slice/depth, [1]=width, [2]=height, [3]=color\n",
        "  d,w,h,c=0,1,2,3\n",
        "  dep,wid,hei=img_shape[d], img_shape[w], img_shape[h]\n",
        "  slices=np.rint(np.linspace(0,1,n_slices_per_case)*(dep-1)).astype(np.int32)\n",
        "  output = np.zeros((num_of_sets, hei * n_slices_per_case,wid * n_cases))\n",
        "\n",
        "  i=0\n",
        "  for case in dataset.take(n_cases):\n",
        "    for j in range(num_of_sets):\n",
        "      input=case[j].numpy()\n",
        "      input=input[slices,:,:,0]\n",
        "      output[j, :,i*wid:(i+1)*wid]=np.vstack(input)\n",
        "    i += 1\n",
        "\n",
        "  fig, ax = plt.subplots(1,num_of_sets, figsize=(15,15))\n",
        "  for i in range(num_of_sets):\n",
        "    #plt.imshow(output, extent=[1,n_cases, slices[-1], slices[0]])\n",
        "    img=ax[i].imshow(output[i,:,:], cmap=\"gray\", aspect=\"auto\")\n",
        "    xtick=np.arange(1,n_cases+1)\n",
        "    ytick=slices/(slices[1]-slices[0])\n",
        "    ax[i].set_xticks(xtick*wid-wid*0.5)\n",
        "    ax[i].set_xticklabels(xtick)\n",
        "    ax[i].set_yticks(ytick*hei+hei*0.5)\n",
        "    ax[i].set_yticklabels(slices)\n",
        "    #ax[i].set_title(\"Title\")\n",
        "    ax[i].set_xlabel(\"Case #\")\n",
        "    ax[i].set_ylabel(\"Slice #\")\n",
        "    fig.show(img)\n"
      ],
      "execution_count": 0,
      "outputs": []
    },
    {
      "cell_type": "code",
      "metadata": {
        "id": "6IVAgAANl20O",
        "colab_type": "code",
        "colab": {}
      },
      "source": [
        "def aug_rotate(img):\n",
        "  nb=img.shape[0]\n",
        "  outimg=[]\n",
        "  for i in range(nb):\n",
        "    outimg.append(tf.image.rot90(img[i,:,:,:], tf.random.uniform([], minval=1, maxval=4, dtype=tf.int32)))\n",
        "  outimg=tf.stack(outimg)\n",
        "  return outimg\n",
        "\n",
        "def aug_flip(img):\n",
        "  nb=img.shape[0]\n",
        "  outimg=[]\n",
        "  for i in range(nb):\n",
        "    outimg.append(tf.image.flip_left_right(img[i,:,:,:]))\n",
        "  outimg=tf.stack(outimg)\n",
        "  return outimg\n",
        "\n",
        "def dataset_len(dataset):\n",
        "  i=0\n",
        "  for e in dataset:\n",
        "    i +=1\n",
        "  return i\n",
        "#for i in train_set.take(1):\n",
        "#  ximg=i[0][45,:,:,0]\n",
        "#  yimg=i[1][45,:,:,0]\n",
        "\n",
        "\n",
        "if AUGMENT_EPOCH>0:\n",
        "  augmentations = [aug_flip, aug_rotate]\n",
        "\n",
        "  print(\"Before augmentation, train_set size = \",dataset_len(train_set))\n",
        "  orig=train_set\n",
        "  for i in range(AUGMENT_EPOCH):\n",
        "    for f in augmentations:\n",
        "      train_set=train_set.concatenate(orig.map(lambda x,y: (f(x), f(y)), num_parallel_calls=tf.data.experimental.AUTOTUNE))\n",
        "  print(\"After augmentation, train_set size = \",dataset_len(train_set))\n",
        "#for i in xxx.take(1):\n",
        "#  ximg_aug=i[0][45,:,:,0]\n",
        "#  yimg_aug=i[1][45,:,:,0]\n",
        "\n",
        "#fig, ax = plt.subplots(2, 2)\n",
        "#ax[0,0].imshow(ximg,cmap=\"gray\")\n",
        "#ax[0,1].imshow(ximg_aug,cmap=\"gray\")\n",
        "#ax[1,0].imshow(yimg, cmap=\"gray\")\n",
        "#ax[1,1].imshow(yimg_aug, cmap=\"gray\")"
      ],
      "execution_count": 0,
      "outputs": []
    },
    {
      "cell_type": "code",
      "metadata": {
        "id": "eJDgtvXXeJ1j",
        "colab_type": "code",
        "colab": {
          "base_uri": "https://localhost:8080/",
          "height": 86
        },
        "outputId": "5a50505b-631a-463e-f075-ab8854cf0e73"
      },
      "source": [
        "train_set=train_set.batch(BATCH_SIZE).shuffle(SHUFFLE_SIZE).prefetch(tf.data.experimental.AUTOTUNE)\n",
        "\n",
        "print(np.amin(x_train))\n",
        "print(np.amax(x_train))\n",
        "print(train_set.element_spec)\n",
        "print(y_train.shape)"
      ],
      "execution_count": 32,
      "outputs": [
        {
          "output_type": "stream",
          "text": [
            "0.0\n",
            "4605.0\n",
            "(TensorSpec(shape=(None, 64, 64, 64, 1), dtype=tf.float32, name=None), TensorSpec(shape=(None, 64, 64, 64, 2), dtype=tf.int32, name=None))\n",
            "(64, 64, 64, 64, 2)\n"
          ],
          "name": "stdout"
        }
      ]
    },
    {
      "cell_type": "code",
      "metadata": {
        "id": "_Y8OHa1P0iYA",
        "colab_type": "code",
        "colab": {
          "base_uri": "https://localhost:8080/",
          "height": 520
        },
        "outputId": "29f9a041-b897-4b9f-f7a7-04b97145785c"
      },
      "source": [
        "#  keras.layers.BatchNormalization(),\n",
        "model = keras.Sequential([\n",
        "  keras.layers.InputLayer(input_shape=x_train.shape[1:], name=\"Input\"),\n",
        "  keras.layers.BatchNormalization(name=\"Input/BN\"),\n",
        "  keras.layers.Conv3D(2, kernel_size=(3,3,3), padding=\"same\",activation=keras.activations.relu, name=\"C1\")\n",
        "],\n",
        "name=\"RUP-Net\")\n",
        "\n",
        "model.compile(optimizer=keras.optimizers.Adam(),\n",
        "              loss=keras.losses.CategoricalCrossentropy(from_logits=True),\n",
        "              metrics=['accuracy'])\n",
        "model.summary()\n",
        "\n",
        "keras.utils.plot_model(model, 'RUP-Net.png', show_shapes=True)"
      ],
      "execution_count": 33,
      "outputs": [
        {
          "output_type": "stream",
          "text": [
            "Model: \"RUP-Net\"\n",
            "_________________________________________________________________\n",
            "Layer (type)                 Output Shape              Param #   \n",
            "=================================================================\n",
            "Input/BN (BatchNormalization (None, 64, 64, 64, 1)     4         \n",
            "_________________________________________________________________\n",
            "C1 (Conv3D)                  (None, 64, 64, 64, 2)     56        \n",
            "=================================================================\n",
            "Total params: 60\n",
            "Trainable params: 58\n",
            "Non-trainable params: 2\n",
            "_________________________________________________________________\n"
          ],
          "name": "stdout"
        },
        {
          "output_type": "execute_result",
          "data": {
            "image/png": "[encoded data removed]",
            "text/plain": [
              "<IPython.core.display.Image object>"
            ]
          },
          "metadata": {
            "tags": []
          },
          "execution_count": 33
        }
      ]
    },
    {
      "cell_type": "code",
      "metadata": {
        "id": "PXfstnXI0uqy",
        "colab_type": "code",
        "outputId": "9f5493b9-a95b-4719-b620-383d5770a380",
        "colab": {
          "base_uri": "https://localhost:8080/",
          "height": 121
        }
      },
      "source": [
        "earlystop = keras.callbacks.EarlyStopping(monitor='val_loss', patience=0)\n",
        "model.fit(train_set, epochs=EPOCH, validation_data=(x_test, y_test), validation_steps=BATCH_SIZE, callbacks=[earlystop])\n"
      ],
      "execution_count": 52,
      "outputs": [
        {
          "output_type": "stream",
          "text": [
            "Train for 64 steps, validate on 17 samples\n",
            "Epoch 1/5\n",
            "64/64 [==============================] - 19s 293ms/step - loss: 2.4005 - accuracy: 0.9647 - val_loss: 2.3785 - val_accuracy: 0.9677\n",
            "Epoch 2/5\n",
            "64/64 [==============================] - 18s 278ms/step - loss: 2.3902 - accuracy: 0.9677 - val_loss: 2.3931 - val_accuracy: 0.9702\n"
          ],
          "name": "stdout"
        },
        {
          "output_type": "execute_result",
          "data": {
            "text/plain": [
              "<tensorflow.python.keras.callbacks.History at 0x7f9bb30fa278>"
            ]
          },
          "metadata": {
            "tags": []
          },
          "execution_count": 52
        }
      ]
    }
  ]
}